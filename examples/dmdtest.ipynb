{
 "cells": [
  {
   "cell_type": "markdown",
   "source": [
    "# Dynamic mode decomposition (DMD)\n",
    "In this example, we will demonstrate the use of dynamic mode decomposition (DMD) for\n",
    "decomposing a simple linear dynamical system.\n",
    "\n",
    "This example is inspired from example 1 of\n",
    "\n",
    "M.S. Hemati, C.W. Rowley, E.A. Deem, and L.N. Cattafesta\n",
    "   ``De-biasing the dynamic mode decomposition for\n",
    "     applied Koopman spectral analysis of noisy datasets,''\n",
    "     Theoretical and Computational Fluid Dynamics (2017).\n",
    "\n",
    "The example considers a low-rank linear system with\n",
    "two undamped modes and one dampled mode. The snapshots taken from the\n",
    "solution of the linear system are noised up with zero-mean Gaussian noise."
   ],
   "metadata": {}
  },
  {
   "outputs": [
    {
     "output_type": "execute_result",
     "data": {
      "text/plain": "0.1"
     },
     "metadata": {},
     "execution_count": 1
    }
   ],
   "cell_type": "code",
   "source": [
    "using ILMPostProcessing\n",
    "\n",
    "using LinearAlgebra\n",
    "using Random\n",
    "using OrdinaryDiffEq\n",
    "using Plots\n",
    "\n",
    "m = 100 # number of snapshots\n",
    "n = 250 # number of states\n",
    "r = 6 # rank of DMD\n",
    "dt = 0.01 # snapshot time step\n",
    "meas_cov = 0.05 # measurement noise covariance\n",
    "init_cov = 0.1 # initial condition covariance"
   ],
   "metadata": {},
   "execution_count": 1
  },
  {
   "cell_type": "markdown",
   "source": [
    "Specify characteristic frequencies and growth/decay rates\n",
    "associated with continuous-time dynamics.\n",
    "The DMD rank should be set equal to twice the number of modes\n",
    "(since each mode consists of conjugate pairs)"
   ],
   "metadata": {}
  },
  {
   "outputs": [
    {
     "output_type": "execute_result",
     "data": {
      "text/plain": "3-element Vector{Float64}:\n  0.0\n  0.0\n -0.3"
     },
     "metadata": {},
     "execution_count": 2
    }
   ],
   "cell_type": "code",
   "source": [
    "f = [1.0, 2.5, 5.5]\n",
    "g = [0, 0, -0.3]"
   ],
   "metadata": {},
   "execution_count": 2
  },
  {
   "cell_type": "markdown",
   "source": [
    "Create the right hand side matrix for the continuous linear system"
   ],
   "metadata": {}
  },
  {
   "outputs": [],
   "cell_type": "code",
   "source": [
    "k = 2*length(f)\n",
    "A = zeros(k,k)\n",
    "for ii in 1:length(f)\n",
    "    i1, i2 = 2*ii-1, 2*ii\n",
    "    Ai = view(A,i1:i2,i1:i2)\n",
    "    Ai .= [g[ii] 2π*f[ii]; -2π*f[ii] g[ii]]\n",
    "end"
   ],
   "metadata": {},
   "execution_count": 3
  },
  {
   "cell_type": "markdown",
   "source": [
    "The true eigenvalues of the system"
   ],
   "metadata": {}
  },
  {
   "outputs": [
    {
     "output_type": "execute_result",
     "data": {
      "text/plain": "6-element Vector{ComplexF64}:\n 0.9380623563800332 - 0.33772322928201853im\n 0.9380623563800332 + 0.33772322928201853im\n 0.9876883405951378 - 0.15643446504023087im\n 0.9980267284282716 - 0.06279051952931336im\n 0.9980267284282716 + 0.06279051952931336im\n 0.9876883405951378 + 0.15643446504023087im"
     },
     "metadata": {},
     "execution_count": 4
    }
   ],
   "cell_type": "code",
   "source": [
    "true_evals = exp.(eigvals(A)*dt)"
   ],
   "metadata": {},
   "execution_count": 4
  },
  {
   "cell_type": "markdown",
   "source": [
    "Right-hand side of linear system of equations"
   ],
   "metadata": {}
  },
  {
   "outputs": [
    {
     "output_type": "execute_result",
     "data": {
      "text/plain": "dynsys (generic function with 1 method)"
     },
     "metadata": {},
     "execution_count": 5
    }
   ],
   "cell_type": "code",
   "source": [
    "dynsys(x,p,t) = A*x"
   ],
   "metadata": {},
   "execution_count": 5
  },
  {
   "cell_type": "markdown",
   "source": [
    "### Solve the linear system\n",
    "Set up a random initial condition with elements drawn from N(1,init_cov)\n",
    "and solve the problem."
   ],
   "metadata": {}
  },
  {
   "outputs": [],
   "cell_type": "code",
   "source": [
    "x0 = 1 .+ randn(k)*sqrt(init_cov)\n",
    "\n",
    "tspan = (0,dt*m)\n",
    "prob = ODEProblem(dynsys,x0,tspan)\n",
    "sol = solve(prob,Tsit5(),saveat=dt);"
   ],
   "metadata": {},
   "execution_count": 6
  },
  {
   "cell_type": "markdown",
   "source": [
    "For DMD, use the solution snapshots, but\n",
    "randomly rotate them and apply noise to each"
   ],
   "metadata": {}
  },
  {
   "outputs": [],
   "cell_type": "code",
   "source": [
    "Q, _ = qr(randn(n,k))\n",
    "getsnaps(x) = Q*x .+ sqrt(meas_cov)*randn(n)\n",
    "snaps = map(x -> getsnaps(x),sol.u);"
   ],
   "metadata": {},
   "execution_count": 7
  },
  {
   "cell_type": "markdown",
   "source": [
    "Now perform DMD"
   ],
   "metadata": {}
  },
  {
   "outputs": [
    {
     "output_type": "execute_result",
     "data": {
      "text/plain": "Plot{Plots.GRBackend() n=3}",
      "image/png": "[encoded data removed]",
      "text/html": [
       "<?xml version=\"1.0\" encoding=\"utf-8\"?>\n",
       "<svg xmlns=\"http://www.w3.org/2000/svg\" xmlns:xlink=\"http://www.w3.org/1999/xlink\" width=\"600\" height=\"400\" viewBox=\"0 0 2400 1600\">\n",
       "<defs>\n",
       "  <clipPath id=\"clip980\">\n",
       "    <rect x=\"0\" y=\"0\" width=\"2400\" height=\"1600\"/>\n",
       "  </clipPath>\n",
       "</defs>\n",
       "<path clip-path=\"url(#clip980)\" d=\"M0 1600 L2400 1600 L2400 8.88178e-14 L0 8.88178e-14  Z\" fill=\"#ffffff\" fill-rule=\"evenodd\" fill-opacity=\"1\"/>\n",
       "<defs>\n",
       "  <clipPath id=\"clip981\">\n",
       "    <rect x=\"480\" y=\"0\" width=\"1681\" height=\"1600\"/>\n",
       "  </clipPath>\n",
       "</defs>\n",
       "<path clip-path=\"url(#clip980)\" d=\"M535.075 1486.45 L1974.28 1486.45 L1974.28 47.2441 L535.075 47.2441  Z\" fill=\"#ffffff\" fill-rule=\"evenodd\" fill-opacity=\"1\"/>\n",
       "<defs>\n",
       "  <clipPath id=\"clip982\">\n",
       "    <rect x=\"535\" y=\"47\" width=\"1440\" height=\"1440\"/>\n",
       "  </clipPath>\n",
       "</defs>\n",
       "<polyline clip-path=\"url(#clip982)\" style=\"stroke:#000000; stroke-linecap:round; stroke-linejoin:round; stroke-width:2; stroke-opacity:0.1; fill:none\" points=\"535.075,1486.45 535.075,47.2441 \"/>\n",
       "<polyline clip-path=\"url(#clip982)\" style=\"stroke:#000000; stroke-linecap:round; stroke-linejoin:round; stroke-width:2; stroke-opacity:0.1; fill:none\" points=\"894.876,1486.45 894.876,47.2441 \"/>\n",
       "<polyline clip-path=\"url(#clip982)\" style=\"stroke:#000000; stroke-linecap:round; stroke-linejoin:round; stroke-width:2; stroke-opacity:0.1; fill:none\" points=\"1254.68,1486.45 1254.68,47.2441 \"/>\n",
       "<polyline clip-path=\"url(#clip982)\" style=\"stroke:#000000; stroke-linecap:round; stroke-linejoin:round; stroke-width:2; stroke-opacity:0.1; fill:none\" points=\"1614.48,1486.45 1614.48,47.2441 \"/>\n",
       "<polyline clip-path=\"url(#clip982)\" style=\"stroke:#000000; stroke-linecap:round; stroke-linejoin:round; stroke-width:2; stroke-opacity:0.1; fill:none\" points=\"1974.28,1486.45 1974.28,47.2441 \"/>\n",
       "<polyline clip-path=\"url(#clip980)\" style=\"stroke:#000000; stroke-linecap:round; stroke-linejoin:round; stroke-width:4; stroke-opacity:1; fill:none\" points=\"535.075,1486.45 1974.28,1486.45 \"/>\n",
       "<polyline clip-path=\"url(#clip980)\" style=\"stroke:#000000; stroke-linecap:round; stroke-linejoin:round; stroke-width:4; stroke-opacity:1; fill:none\" points=\"535.075,1486.45 535.075,1467.55 \"/>\n",
       "<polyline clip-path=\"url(#clip980)\" style=\"stroke:#000000; stroke-linecap:round; stroke-linejoin:round; stroke-width:4; stroke-opacity:1; fill:none\" points=\"894.876,1486.45 894.876,1467.55 \"/>\n",
       "<polyline clip-path=\"url(#clip980)\" style=\"stroke:#000000; stroke-linecap:round; stroke-linejoin:round; stroke-width:4; stroke-opacity:1; fill:none\" points=\"1254.68,1486.45 1254.68,1467.55 \"/>\n",
       "<polyline clip-path=\"url(#clip980)\" style=\"stroke:#000000; stroke-linecap:round; stroke-linejoin:round; stroke-width:4; stroke-opacity:1; fill:none\" points=\"1614.48,1486.45 1614.48,1467.55 \"/>\n",
       "<polyline clip-path=\"url(#clip980)\" style=\"stroke:#000000; stroke-linecap:round; stroke-linejoin:round; stroke-width:4; stroke-opacity:1; fill:none\" points=\"1974.28,1486.45 1974.28,1467.55 \"/>\n",
       "<path clip-path=\"url(#clip980)\" d=\"M512.911 1517.37 Q509.3 1517.37 507.471 1520.93 Q505.666 1524.47 505.666 1531.6 Q505.666 1538.71 507.471 1542.27 Q509.3 1545.82 512.911 1545.82 Q516.545 1545.82 518.351 1542.27 Q520.179 1538.71 520.179 1531.6 Q520.179 1524.47 518.351 1520.93 Q516.545 1517.37 512.911 1517.37 M512.911 1513.66 Q518.721 1513.66 521.777 1518.27 Q524.855 1522.85 524.855 1531.6 Q524.855 1540.33 521.777 1544.94 Q518.721 1549.52 512.911 1549.52 Q507.101 1549.52 504.022 1544.94 Q500.967 1540.33 500.967 1531.6 Q500.967 1522.85 504.022 1518.27 Q507.101 1513.66 512.911 1513.66 Z\" fill=\"#000000\" fill-rule=\"nonzero\" fill-opacity=\"1\" /><path clip-path=\"url(#clip980)\" d=\"M533.073 1542.97 L537.957 1542.97 L537.957 1548.85 L533.073 1548.85 L533.073 1542.97 Z\" fill=\"#000000\" fill-rule=\"nonzero\" fill-opacity=\"1\" /><path clip-path=\"url(#clip980)\" d=\"M546.962 1514.29 L569.184 1514.29 L569.184 1516.28 L556.638 1548.85 L551.753 1548.85 L563.559 1518.22 L546.962 1518.22 L546.962 1514.29 Z\" fill=\"#000000\" fill-rule=\"nonzero\" fill-opacity=\"1\" /><path clip-path=\"url(#clip980)\" d=\"M872.307 1517.37 Q868.696 1517.37 866.867 1520.93 Q865.061 1524.47 865.061 1531.6 Q865.061 1538.71 866.867 1542.27 Q868.696 1545.82 872.307 1545.82 Q875.941 1545.82 877.747 1542.27 Q879.575 1538.71 879.575 1531.6 Q879.575 1524.47 877.747 1520.93 Q875.941 1517.37 872.307 1517.37 M872.307 1513.66 Q878.117 1513.66 881.172 1518.27 Q884.251 1522.85 884.251 1531.6 Q884.251 1540.33 881.172 1544.94 Q878.117 1549.52 872.307 1549.52 Q866.497 1549.52 863.418 1544.94 Q860.362 1540.33 860.362 1531.6 Q860.362 1522.85 863.418 1518.27 Q866.497 1513.66 872.307 1513.66 Z\" fill=\"#000000\" fill-rule=\"nonzero\" fill-opacity=\"1\" /><path clip-path=\"url(#clip980)\" d=\"M892.469 1542.97 L897.353 1542.97 L897.353 1548.85 L892.469 1548.85 L892.469 1542.97 Z\" fill=\"#000000\" fill-rule=\"nonzero\" fill-opacity=\"1\" /><path clip-path=\"url(#clip980)\" d=\"M917.538 1532.44 Q914.205 1532.44 912.283 1534.22 Q910.385 1536 910.385 1539.13 Q910.385 1542.25 912.283 1544.03 Q914.205 1545.82 917.538 1545.82 Q920.871 1545.82 922.793 1544.03 Q924.714 1542.23 924.714 1539.13 Q924.714 1536 922.793 1534.22 Q920.895 1532.44 917.538 1532.44 M912.862 1530.45 Q909.853 1529.7 908.163 1527.64 Q906.496 1525.58 906.496 1522.62 Q906.496 1518.48 909.436 1516.07 Q912.399 1513.66 917.538 1513.66 Q922.7 1513.66 925.64 1516.07 Q928.58 1518.48 928.58 1522.62 Q928.58 1525.58 926.89 1527.64 Q925.223 1529.7 922.237 1530.45 Q925.617 1531.23 927.492 1533.52 Q929.39 1535.82 929.39 1539.13 Q929.39 1544.15 926.311 1546.83 Q923.256 1549.52 917.538 1549.52 Q911.82 1549.52 908.742 1546.83 Q905.686 1544.15 905.686 1539.13 Q905.686 1535.82 907.584 1533.52 Q909.483 1531.23 912.862 1530.45 M911.149 1523.06 Q911.149 1525.75 912.816 1527.25 Q914.506 1528.76 917.538 1528.76 Q920.547 1528.76 922.237 1527.25 Q923.95 1525.75 923.95 1523.06 Q923.95 1520.38 922.237 1518.87 Q920.547 1517.37 917.538 1517.37 Q914.506 1517.37 912.816 1518.87 Q911.149 1520.38 911.149 1523.06 Z\" fill=\"#000000\" fill-rule=\"nonzero\" fill-opacity=\"1\" /><path clip-path=\"url(#clip980)\" d=\"M1232.15 1517.37 Q1228.54 1517.37 1226.71 1520.93 Q1224.91 1524.47 1224.91 1531.6 Q1224.91 1538.71 1226.71 1542.27 Q1228.54 1545.82 1232.15 1545.82 Q1235.79 1545.82 1237.59 1542.27 Q1239.42 1538.71 1239.42 1531.6 Q1239.42 1524.47 1237.59 1520.93 Q1235.79 1517.37 1232.15 1517.37 M1232.15 1513.66 Q1237.96 1513.66 1241.02 1518.27 Q1244.1 1522.85 1244.1 1531.6 Q1244.1 1540.33 1241.02 1544.94 Q1237.96 1549.52 1232.15 1549.52 Q1226.34 1549.52 1223.27 1544.94 Q1220.21 1540.33 1220.21 1531.6 Q1220.21 1522.85 1223.27 1518.27 Q1226.34 1513.66 1232.15 1513.66 Z\" fill=\"#000000\" fill-rule=\"nonzero\" fill-opacity=\"1\" /><path clip-path=\"url(#clip980)\" d=\"M1252.32 1542.97 L1257.2 1542.97 L1257.2 1548.85 L1252.32 1548.85 L1252.32 1542.97 Z\" fill=\"#000000\" fill-rule=\"nonzero\" fill-opacity=\"1\" /><path clip-path=\"url(#clip980)\" d=\"M1267.52 1548.13 L1267.52 1543.87 Q1269.28 1544.7 1271.09 1545.14 Q1272.89 1545.58 1274.63 1545.58 Q1279.26 1545.58 1281.69 1542.48 Q1284.14 1539.36 1284.49 1533.01 Q1283.15 1535.01 1281.09 1536.07 Q1279.03 1537.13 1276.53 1537.13 Q1271.34 1537.13 1268.31 1534.01 Q1265.3 1530.86 1265.3 1525.42 Q1265.3 1520.1 1268.45 1516.88 Q1271.6 1513.66 1276.83 1513.66 Q1282.83 1513.66 1285.97 1518.27 Q1289.14 1522.85 1289.14 1531.6 Q1289.14 1539.77 1285.26 1544.66 Q1281.39 1549.52 1274.84 1549.52 Q1273.08 1549.52 1271.27 1549.17 Q1269.47 1548.82 1267.52 1548.13 M1276.83 1533.48 Q1279.98 1533.48 1281.81 1531.32 Q1283.66 1529.17 1283.66 1525.42 Q1283.66 1521.7 1281.81 1519.54 Q1279.98 1517.37 1276.83 1517.37 Q1273.68 1517.37 1271.83 1519.54 Q1270 1521.7 1270 1525.42 Q1270 1529.17 1271.83 1531.32 Q1273.68 1533.48 1276.83 1533.48 Z\" fill=\"#000000\" fill-rule=\"nonzero\" fill-opacity=\"1\" /><path clip-path=\"url(#clip980)\" d=\"M1581.63 1544.91 L1589.27 1544.91 L1589.27 1518.55 L1580.96 1520.21 L1580.96 1515.95 L1589.22 1514.29 L1593.9 1514.29 L1593.9 1544.91 L1601.54 1544.91 L1601.54 1548.85 L1581.63 1548.85 L1581.63 1544.91 Z\" fill=\"#000000\" fill-rule=\"nonzero\" fill-opacity=\"1\" /><path clip-path=\"url(#clip980)\" d=\"M1610.98 1542.97 L1615.87 1542.97 L1615.87 1548.85 L1610.98 1548.85 L1610.98 1542.97 Z\" fill=\"#000000\" fill-rule=\"nonzero\" fill-opacity=\"1\" /><path clip-path=\"url(#clip980)\" d=\"M1636.05 1517.37 Q1632.44 1517.37 1630.61 1520.93 Q1628.81 1524.47 1628.81 1531.6 Q1628.81 1538.71 1630.61 1542.27 Q1632.44 1545.82 1636.05 1545.82 Q1639.69 1545.82 1641.49 1542.27 Q1643.32 1538.71 1643.32 1531.6 Q1643.32 1524.47 1641.49 1520.93 Q1639.69 1517.37 1636.05 1517.37 M1636.05 1513.66 Q1641.86 1513.66 1644.92 1518.27 Q1648 1522.85 1648 1531.6 Q1648 1540.33 1644.92 1544.94 Q1641.86 1549.52 1636.05 1549.52 Q1630.24 1549.52 1627.16 1544.94 Q1624.11 1540.33 1624.11 1531.6 Q1624.11 1522.85 1627.16 1518.27 Q1630.24 1513.66 1636.05 1513.66 Z\" fill=\"#000000\" fill-rule=\"nonzero\" fill-opacity=\"1\" /><path clip-path=\"url(#clip980)\" d=\"M1942.05 1544.91 L1949.68 1544.91 L1949.68 1518.55 L1941.37 1520.21 L1941.37 1515.95 L1949.64 1514.29 L1954.31 1514.29 L1954.31 1544.91 L1961.95 1544.91 L1961.95 1548.85 L1942.05 1548.85 L1942.05 1544.91 Z\" fill=\"#000000\" fill-rule=\"nonzero\" fill-opacity=\"1\" /><path clip-path=\"url(#clip980)\" d=\"M1971.4 1542.97 L1976.28 1542.97 L1976.28 1548.85 L1971.4 1548.85 L1971.4 1542.97 Z\" fill=\"#000000\" fill-rule=\"nonzero\" fill-opacity=\"1\" /><path clip-path=\"url(#clip980)\" d=\"M1987.28 1544.91 L1994.92 1544.91 L1994.92 1518.55 L1986.61 1520.21 L1986.61 1515.95 L1994.87 1514.29 L1999.55 1514.29 L1999.55 1544.91 L2007.18 1544.91 L2007.18 1548.85 L1987.28 1548.85 L1987.28 1544.91 Z\" fill=\"#000000\" fill-rule=\"nonzero\" fill-opacity=\"1\" /><polyline clip-path=\"url(#clip982)\" style=\"stroke:#000000; stroke-linecap:round; stroke-linejoin:round; stroke-width:2; stroke-opacity:0.1; fill:none\" points=\"535.075,1486.45 1974.28,1486.45 \"/>\n",
       "<polyline clip-path=\"url(#clip982)\" style=\"stroke:#000000; stroke-linecap:round; stroke-linejoin:round; stroke-width:2; stroke-opacity:0.1; fill:none\" points=\"535.075,1126.65 1974.28,1126.65 \"/>\n",
       "<polyline clip-path=\"url(#clip982)\" style=\"stroke:#000000; stroke-linecap:round; stroke-linejoin:round; stroke-width:2; stroke-opacity:0.1; fill:none\" points=\"535.075,766.846 1974.28,766.846 \"/>\n",
       "<polyline clip-path=\"url(#clip982)\" style=\"stroke:#000000; stroke-linecap:round; stroke-linejoin:round; stroke-width:2; stroke-opacity:0.1; fill:none\" points=\"535.075,407.045 1974.28,407.045 \"/>\n",
       "<polyline clip-path=\"url(#clip982)\" style=\"stroke:#000000; stroke-linecap:round; stroke-linejoin:round; stroke-width:2; stroke-opacity:0.1; fill:none\" points=\"535.075,47.2441 1974.28,47.2441 \"/>\n",
       "<polyline clip-path=\"url(#clip980)\" style=\"stroke:#000000; stroke-linecap:round; stroke-linejoin:round; stroke-width:4; stroke-opacity:1; fill:none\" points=\"535.075,1486.45 535.075,47.2441 \"/>\n",
       "<polyline clip-path=\"url(#clip980)\" style=\"stroke:#000000; stroke-linecap:round; stroke-linejoin:round; stroke-width:4; stroke-opacity:1; fill:none\" points=\"535.075,1486.45 547.459,1486.45 \"/>\n",
       "<polyline clip-path=\"url(#clip980)\" style=\"stroke:#000000; stroke-linecap:round; stroke-linejoin:round; stroke-width:4; stroke-opacity:1; fill:none\" points=\"535.075,1126.65 547.459,1126.65 \"/>\n",
       "<polyline clip-path=\"url(#clip980)\" style=\"stroke:#000000; stroke-linecap:round; stroke-linejoin:round; stroke-width:4; stroke-opacity:1; fill:none\" points=\"535.075,766.846 547.459,766.846 \"/>\n",
       "<polyline clip-path=\"url(#clip980)\" style=\"stroke:#000000; stroke-linecap:round; stroke-linejoin:round; stroke-width:4; stroke-opacity:1; fill:none\" points=\"535.075,407.045 547.459,407.045 \"/>\n",
       "<polyline clip-path=\"url(#clip980)\" style=\"stroke:#000000; stroke-linecap:round; stroke-linejoin:round; stroke-width:4; stroke-opacity:1; fill:none\" points=\"535.075,47.2441 547.459,47.2441 \"/>\n",
       "<path clip-path=\"url(#clip980)\" d=\"M441.9 1472.25 Q438.288 1472.25 436.46 1475.81 Q434.654 1479.35 434.654 1486.48 Q434.654 1493.59 436.46 1497.15 Q438.288 1500.7 441.9 1500.7 Q445.534 1500.7 447.339 1497.15 Q449.168 1493.59 449.168 1486.48 Q449.168 1479.35 447.339 1475.81 Q445.534 1472.25 441.9 1472.25 M441.9 1468.54 Q447.71 1468.54 450.765 1473.15 Q453.844 1477.73 453.844 1486.48 Q453.844 1495.21 450.765 1499.82 Q447.71 1504.4 441.9 1504.4 Q436.089 1504.4 433.011 1499.82 Q429.955 1495.21 429.955 1486.48 Q429.955 1477.73 433.011 1473.15 Q436.089 1468.54 441.9 1468.54 Z\" fill=\"#000000\" fill-rule=\"nonzero\" fill-opacity=\"1\" /><path clip-path=\"url(#clip980)\" d=\"M462.061 1497.85 L466.946 1497.85 L466.946 1503.73 L462.061 1503.73 L462.061 1497.85 Z\" fill=\"#000000\" fill-rule=\"nonzero\" fill-opacity=\"1\" /><path clip-path=\"url(#clip980)\" d=\"M487.131 1472.25 Q483.52 1472.25 481.691 1475.81 Q479.885 1479.35 479.885 1486.48 Q479.885 1493.59 481.691 1497.15 Q483.52 1500.7 487.131 1500.7 Q490.765 1500.7 492.571 1497.15 Q494.399 1493.59 494.399 1486.48 Q494.399 1479.35 492.571 1475.81 Q490.765 1472.25 487.131 1472.25 M487.131 1468.54 Q492.941 1468.54 495.996 1473.15 Q499.075 1477.73 499.075 1486.48 Q499.075 1495.21 495.996 1499.82 Q492.941 1504.4 487.131 1504.4 Q481.321 1504.4 478.242 1499.82 Q475.186 1495.21 475.186 1486.48 Q475.186 1477.73 478.242 1473.15 Q481.321 1468.54 487.131 1468.54 Z\" fill=\"#000000\" fill-rule=\"nonzero\" fill-opacity=\"1\" /><path clip-path=\"url(#clip980)\" d=\"M443.126 1112.45 Q439.515 1112.45 437.687 1116.01 Q435.881 1119.55 435.881 1126.68 Q435.881 1133.79 437.687 1137.35 Q439.515 1140.89 443.126 1140.89 Q446.761 1140.89 448.566 1137.35 Q450.395 1133.79 450.395 1126.68 Q450.395 1119.55 448.566 1116.01 Q446.761 1112.45 443.126 1112.45 M443.126 1108.74 Q448.937 1108.74 451.992 1113.35 Q455.071 1117.93 455.071 1126.68 Q455.071 1135.41 451.992 1140.01 Q448.937 1144.6 443.126 1144.6 Q437.316 1144.6 434.238 1140.01 Q431.182 1135.41 431.182 1126.68 Q431.182 1117.93 434.238 1113.35 Q437.316 1108.74 443.126 1108.74 Z\" fill=\"#000000\" fill-rule=\"nonzero\" fill-opacity=\"1\" /><path clip-path=\"url(#clip980)\" d=\"M463.288 1138.05 L468.173 1138.05 L468.173 1143.93 L463.288 1143.93 L463.288 1138.05 Z\" fill=\"#000000\" fill-rule=\"nonzero\" fill-opacity=\"1\" /><path clip-path=\"url(#clip980)\" d=\"M479.168 1139.99 L486.807 1139.99 L486.807 1113.63 L478.497 1115.29 L478.497 1111.03 L486.76 1109.37 L491.436 1109.37 L491.436 1139.99 L499.075 1139.99 L499.075 1143.93 L479.168 1143.93 L479.168 1139.99 Z\" fill=\"#000000\" fill-rule=\"nonzero\" fill-opacity=\"1\" /><path clip-path=\"url(#clip980)\" d=\"M443.497 752.645 Q439.886 752.645 438.057 756.209 Q436.251 759.751 436.251 766.881 Q436.251 773.987 438.057 777.552 Q439.886 781.094 443.497 781.094 Q447.131 781.094 448.937 777.552 Q450.765 773.987 450.765 766.881 Q450.765 759.751 448.937 756.209 Q447.131 752.645 443.497 752.645 M443.497 748.941 Q449.307 748.941 452.362 753.547 Q455.441 758.131 455.441 766.881 Q455.441 775.608 452.362 780.214 Q449.307 784.797 443.497 784.797 Q437.687 784.797 434.608 780.214 Q431.552 775.608 431.552 766.881 Q431.552 758.131 434.608 753.547 Q437.687 748.941 443.497 748.941 Z\" fill=\"#000000\" fill-rule=\"nonzero\" fill-opacity=\"1\" /><path clip-path=\"url(#clip980)\" d=\"M463.659 778.246 L468.543 778.246 L468.543 784.126 L463.659 784.126 L463.659 778.246 Z\" fill=\"#000000\" fill-rule=\"nonzero\" fill-opacity=\"1\" /><path clip-path=\"url(#clip980)\" d=\"M482.756 780.191 L499.075 780.191 L499.075 784.126 L477.131 784.126 L477.131 780.191 Q479.793 777.436 484.376 772.807 Q488.983 768.154 490.163 766.811 Q492.409 764.288 493.288 762.552 Q494.191 760.793 494.191 759.103 Q494.191 756.348 492.247 754.612 Q490.325 752.876 487.223 752.876 Q485.024 752.876 482.571 753.64 Q480.14 754.404 477.362 755.955 L477.362 751.233 Q480.186 750.098 482.64 749.52 Q485.094 748.941 487.131 748.941 Q492.501 748.941 495.696 751.626 Q498.89 754.311 498.89 758.802 Q498.89 760.932 498.08 762.853 Q497.293 764.751 495.186 767.344 Q494.608 768.015 491.506 771.233 Q488.404 774.427 482.756 780.191 Z\" fill=\"#000000\" fill-rule=\"nonzero\" fill-opacity=\"1\" /><path clip-path=\"url(#clip980)\" d=\"M442.548 392.844 Q438.937 392.844 437.108 396.409 Q435.302 399.95 435.302 407.08 Q435.302 414.186 437.108 417.751 Q438.937 421.293 442.548 421.293 Q446.182 421.293 447.987 417.751 Q449.816 414.186 449.816 407.08 Q449.816 399.95 447.987 396.409 Q446.182 392.844 442.548 392.844 M442.548 389.14 Q448.358 389.14 451.413 393.746 Q454.492 398.33 454.492 407.08 Q454.492 415.807 451.413 420.413 Q448.358 424.996 442.548 424.996 Q436.738 424.996 433.659 420.413 Q430.603 415.807 430.603 407.08 Q430.603 398.33 433.659 393.746 Q436.738 389.14 442.548 389.14 Z\" fill=\"#000000\" fill-rule=\"nonzero\" fill-opacity=\"1\" /><path clip-path=\"url(#clip980)\" d=\"M462.71 418.445 L467.594 418.445 L467.594 424.325 L462.71 424.325 L462.71 418.445 Z\" fill=\"#000000\" fill-rule=\"nonzero\" fill-opacity=\"1\" /><path clip-path=\"url(#clip980)\" d=\"M491.946 405.691 Q495.302 406.408 497.177 408.677 Q499.075 410.945 499.075 414.279 Q499.075 419.395 495.557 422.195 Q492.038 424.996 485.557 424.996 Q483.381 424.996 481.066 424.557 Q478.774 424.14 476.321 423.283 L476.321 418.77 Q478.265 419.904 480.58 420.482 Q482.895 421.061 485.418 421.061 Q489.816 421.061 492.108 419.325 Q494.422 417.589 494.422 414.279 Q494.422 411.223 492.27 409.51 Q490.14 407.774 486.321 407.774 L482.293 407.774 L482.293 403.932 L486.506 403.932 Q489.955 403.932 491.784 402.566 Q493.612 401.177 493.612 398.584 Q493.612 395.922 491.714 394.51 Q489.839 393.075 486.321 393.075 Q484.399 393.075 482.2 393.492 Q480.001 393.909 477.362 394.788 L477.362 390.622 Q480.024 389.881 482.339 389.51 Q484.677 389.14 486.737 389.14 Q492.061 389.14 495.163 391.571 Q498.265 393.978 498.265 398.098 Q498.265 400.969 496.621 402.959 Q494.978 404.927 491.946 405.691 Z\" fill=\"#000000\" fill-rule=\"nonzero\" fill-opacity=\"1\" /><path clip-path=\"url(#clip980)\" d=\"M441.413 33.0428 Q437.802 33.0428 435.974 36.6076 Q434.168 40.1492 434.168 47.2788 Q434.168 54.3853 435.974 57.9501 Q437.802 61.4917 441.413 61.4917 Q445.048 61.4917 446.853 57.9501 Q448.682 54.3853 448.682 47.2788 Q448.682 40.1492 446.853 36.6076 Q445.048 33.0428 441.413 33.0428 M441.413 29.3391 Q447.224 29.3391 450.279 33.9456 Q453.358 38.5289 453.358 47.2788 Q453.358 56.0056 450.279 60.6121 Q447.224 65.1954 441.413 65.1954 Q435.603 65.1954 432.525 60.6121 Q429.469 56.0056 429.469 47.2788 Q429.469 38.5289 432.525 33.9456 Q435.603 29.3391 441.413 29.3391 Z\" fill=\"#000000\" fill-rule=\"nonzero\" fill-opacity=\"1\" /><path clip-path=\"url(#clip980)\" d=\"M461.575 58.6445 L466.46 58.6445 L466.46 64.5241 L461.575 64.5241 L461.575 58.6445 Z\" fill=\"#000000\" fill-rule=\"nonzero\" fill-opacity=\"1\" /><path clip-path=\"url(#clip980)\" d=\"M489.492 34.0381 L477.686 52.4871 L489.492 52.4871 L489.492 34.0381 M488.265 29.9641 L494.145 29.9641 L494.145 52.4871 L499.075 52.4871 L499.075 56.376 L494.145 56.376 L494.145 64.5241 L489.492 64.5241 L489.492 56.376 L473.89 56.376 L473.89 51.8621 L488.265 29.9641 Z\" fill=\"#000000\" fill-rule=\"nonzero\" fill-opacity=\"1\" /><circle clip-path=\"url(#clip982)\" cx=\"1391.63\" cy=\"271.317\" r=\"14.4\" fill=\"#009af9\" fill-rule=\"evenodd\" fill-opacity=\"1\" stroke=\"#000000\" stroke-opacity=\"1\" stroke-width=\"3.2\"/>\n",
       "<circle clip-path=\"url(#clip982)\" cx=\"1607.38\" cy=\"1260.53\" r=\"14.4\" fill=\"#009af9\" fill-rule=\"evenodd\" fill-opacity=\"1\" stroke=\"#000000\" stroke-opacity=\"1\" stroke-width=\"3.2\"/>\n",
       "<circle clip-path=\"url(#clip982)\" cx=\"1570.18\" cy=\"923.595\" r=\"14.4\" fill=\"#009af9\" fill-rule=\"evenodd\" fill-opacity=\"1\" stroke=\"#000000\" stroke-opacity=\"1\" stroke-width=\"3.2\"/>\n",
       "<circle clip-path=\"url(#clip982)\" cx=\"1367.61\" cy=\"254.053\" r=\"14.4\" fill=\"#e26f46\" fill-rule=\"evenodd\" fill-opacity=\"1\" stroke=\"#000000\" stroke-opacity=\"1\" stroke-width=\"3.2\"/>\n",
       "<circle clip-path=\"url(#clip982)\" cx=\"1554.53\" cy=\"1270.17\" r=\"14.4\" fill=\"#e26f46\" fill-rule=\"evenodd\" fill-opacity=\"1\" stroke=\"#000000\" stroke-opacity=\"1\" stroke-width=\"3.2\"/>\n",
       "<circle clip-path=\"url(#clip982)\" cx=\"1558.53\" cy=\"917.816\" r=\"14.4\" fill=\"#e26f46\" fill-rule=\"evenodd\" fill-opacity=\"1\" stroke=\"#000000\" stroke-opacity=\"1\" stroke-width=\"3.2\"/>\n",
       "<polyline clip-path=\"url(#clip982)\" style=\"stroke:#3da44d; stroke-linecap:round; stroke-linejoin:round; stroke-width:4; stroke-opacity:1; fill:none\" points=\"1614.48,1486.45 1607.23,1258.25 1585.53,1030.97 1549.46,805.52 1499.16,582.815 1434.83,363.749 1356.75,149.203 1265.21,-59.9583 1160.59,-262.893 1043.31,-458.783 913.839,-646.84 772.704,-826.308 620.47,-996.463 457.752,-1156.62 285.203,-1306.13 103.519,-1444.4 -86.5692,-1570.87 -284.296,-1685.03 -488.864,-1786.42 -699.451,-1874.62 -915.209,-1949.3 -1135.27,-2010.14 -1358.74,-2056.9 -1584.73,-2089.39 -1812.33,-2107.49 -2040.62,-2111.11 -2268.67,-2100.25 -2495.58,-2074.94 -2720.43,-2035.29 -2942.31,-1981.47 -3160.33,-1913.67 -3373.6,-1832.19 -3581.29,-1737.35 -3782.54,-1629.52 -3976.54,-1509.15 -4162.52,-1376.71 -4339.73,-1232.75 -4507.44,-1077.83 -4665,-912.593 -4811.76,-737.694 -4947.13,-553.839 -5070.56,-361.768 -5181.57,-162.255 -5279.7,43.896 -5364.55,255.856 -5435.8,472.771 -5493.14,693.768 -5536.35,917.957 -5565.25,1144.44 -5579.73,1372.29 -5579.73,1600.61 -5565.25,1828.46 -5536.35,2054.94 -5493.14,2279.13 -5435.8,2500.12 -5364.55,2717.04 -5279.7,2929 -5181.57,3135.15 -5070.56,3334.66 -4947.13,3526.73 -4811.76,3710.59 -4665,3885.49 -4507.44,4050.73 -4339.73,4205.64 -4162.52,4349.61 -3976.54,4482.04 -3782.54,4602.42 -3581.29,4710.24 -3373.6,4805.09 -3160.33,4886.57 -2942.31,4954.36 -2720.43,5008.19 -2495.58,5047.83 -2268.67,5073.14 -2040.62,5084 -1812.33,5080.38 -1584.73,5062.29 -1358.74,5029.8 -1135.27,4983.04 -915.209,4922.2 -699.451,4847.52 -488.864,4759.31 -284.296,4657.93 -86.5692,4543.77 103.519,4417.3 285.203,4279.03 457.752,4129.52 620.47,3969.36 772.704,3799.2 913.839,3619.74 1043.31,3431.68 1160.59,3235.79 1265.21,3032.85 1356.75,2823.69 1434.83,2609.15 1499.16,2390.08 1549.46,2167.38 1585.53,1941.93 1607.23,1714.65 1614.48,1486.45 \"/>\n",
       "<path clip-path=\"url(#clip980)\" d=\"M1628.45 302.578 L1901.07 302.578 L1901.07 95.2176 L1628.45 95.2176  Z\" fill=\"#ffffff\" fill-rule=\"evenodd\" fill-opacity=\"1\"/>\n",
       "<polyline clip-path=\"url(#clip980)\" style=\"stroke:#000000; stroke-linecap:round; stroke-linejoin:round; stroke-width:4; stroke-opacity:1; fill:none\" points=\"1628.45,302.578 1901.07,302.578 1901.07,95.2176 1628.45,95.2176 1628.45,302.578 \"/>\n",
       "<circle clip-path=\"url(#clip980)\" cx=\"1726.06\" cy=\"147.058\" r=\"20.48\" fill=\"#009af9\" fill-rule=\"evenodd\" fill-opacity=\"1\" stroke=\"#000000\" stroke-opacity=\"1\" stroke-width=\"4.55111\"/>\n",
       "<path clip-path=\"url(#clip980)\" d=\"M1837.51 166.745 Q1835.7 171.375 1833.99 172.787 Q1832.27 174.199 1829.4 174.199 L1826 174.199 L1826 170.634 L1828.5 170.634 Q1830.26 170.634 1831.23 169.8 Q1832.2 168.967 1833.39 165.865 L1834.15 163.921 L1823.66 138.412 L1828.18 138.412 L1836.28 158.689 L1844.38 138.412 L1848.89 138.412 L1837.51 166.745 Z\" fill=\"#000000\" fill-rule=\"nonzero\" fill-opacity=\"1\" /><path clip-path=\"url(#clip980)\" d=\"M1856.19 160.402 L1863.82 160.402 L1863.82 134.037 L1855.51 135.703 L1855.51 131.444 L1863.78 129.778 L1868.45 129.778 L1868.45 160.402 L1876.09 160.402 L1876.09 164.338 L1856.19 164.338 L1856.19 160.402 Z\" fill=\"#000000\" fill-rule=\"nonzero\" fill-opacity=\"1\" /><circle clip-path=\"url(#clip980)\" cx=\"1726.06\" cy=\"198.898\" r=\"20.48\" fill=\"#e26f46\" fill-rule=\"evenodd\" fill-opacity=\"1\" stroke=\"#000000\" stroke-opacity=\"1\" stroke-width=\"4.55111\"/>\n",
       "<path clip-path=\"url(#clip980)\" d=\"M1837.51 218.585 Q1835.7 223.215 1833.99 224.627 Q1832.27 226.039 1829.4 226.039 L1826 226.039 L1826 222.474 L1828.5 222.474 Q1830.26 222.474 1831.23 221.64 Q1832.2 220.807 1833.39 217.705 L1834.15 215.761 L1823.66 190.252 L1828.18 190.252 L1836.28 210.529 L1844.38 190.252 L1848.89 190.252 L1837.51 218.585 Z\" fill=\"#000000\" fill-rule=\"nonzero\" fill-opacity=\"1\" /><path clip-path=\"url(#clip980)\" d=\"M1859.4 212.242 L1875.72 212.242 L1875.72 216.178 L1853.78 216.178 L1853.78 212.242 Q1856.44 209.488 1861.02 204.858 Q1865.63 200.205 1866.81 198.863 Q1869.06 196.34 1869.94 194.604 Q1870.84 192.844 1870.84 191.155 Q1870.84 188.4 1868.89 186.664 Q1866.97 184.928 1863.87 184.928 Q1861.67 184.928 1859.22 185.692 Q1856.79 186.455 1854.01 188.006 L1854.01 183.284 Q1856.83 182.15 1859.29 181.571 Q1861.74 180.993 1863.78 180.993 Q1869.15 180.993 1872.34 183.678 Q1875.54 186.363 1875.54 190.854 Q1875.54 192.983 1874.73 194.905 Q1873.94 196.803 1871.83 199.395 Q1871.26 200.067 1868.15 203.284 Q1865.05 206.479 1859.4 212.242 Z\" fill=\"#000000\" fill-rule=\"nonzero\" fill-opacity=\"1\" /><polyline clip-path=\"url(#clip980)\" style=\"stroke:#3da44d; stroke-linecap:round; stroke-linejoin:round; stroke-width:4; stroke-opacity:1; fill:none\" points=\"1652.85,250.738 1799.26,250.738 \"/>\n",
       "<path clip-path=\"url(#clip980)\" d=\"M1837.51 270.425 Q1835.7 275.055 1833.99 276.467 Q1832.27 277.879 1829.4 277.879 L1826 277.879 L1826 274.314 L1828.5 274.314 Q1830.26 274.314 1831.23 273.48 Q1832.2 272.647 1833.39 269.545 L1834.15 267.601 L1823.66 242.092 L1828.18 242.092 L1836.28 262.369 L1844.38 242.092 L1848.89 242.092 L1837.51 270.425 Z\" fill=\"#000000\" fill-rule=\"nonzero\" fill-opacity=\"1\" /><path clip-path=\"url(#clip980)\" d=\"M1869.54 249.383 Q1872.9 250.101 1874.77 252.369 Q1876.67 254.638 1876.67 257.971 Q1876.67 263.087 1873.15 265.888 Q1869.63 268.689 1863.15 268.689 Q1860.98 268.689 1858.66 268.249 Q1856.37 267.832 1853.92 266.976 L1853.92 262.462 Q1855.86 263.596 1858.18 264.175 Q1860.49 264.754 1863.01 264.754 Q1867.41 264.754 1869.7 263.018 Q1872.02 261.281 1872.02 257.971 Q1872.02 254.916 1869.87 253.203 Q1867.74 251.467 1863.92 251.467 L1859.89 251.467 L1859.89 247.624 L1864.1 247.624 Q1867.55 247.624 1869.38 246.258 Q1871.21 244.87 1871.21 242.277 Q1871.21 239.615 1869.31 238.203 Q1867.44 236.768 1863.92 236.768 Q1862 236.768 1859.8 237.184 Q1857.6 237.601 1854.96 238.481 L1854.96 234.314 Q1857.62 233.573 1859.94 233.203 Q1862.27 232.833 1864.33 232.833 Q1869.66 232.833 1872.76 235.263 Q1875.86 237.67 1875.86 241.791 Q1875.86 244.661 1874.22 246.652 Q1872.57 248.62 1869.54 249.383 Z\" fill=\"#000000\" fill-rule=\"nonzero\" fill-opacity=\"1\" /></svg>\n"
      ],
      "image/svg+xml": [
       "<?xml version=\"1.0\" encoding=\"utf-8\"?>\n",
       "<svg xmlns=\"http://www.w3.org/2000/svg\" xmlns:xlink=\"http://www.w3.org/1999/xlink\" width=\"600\" height=\"400\" viewBox=\"0 0 2400 1600\">\n",
       "<defs>\n",
       "  <clipPath id=\"clip950\">\n",
       "    <rect x=\"0\" y=\"0\" width=\"2400\" height=\"1600\"/>\n",
       "  </clipPath>\n",
       "</defs>\n",
       "<path clip-path=\"url(#clip950)\" d=\"M0 1600 L2400 1600 L2400 8.88178e-14 L0 8.88178e-14  Z\" fill=\"#ffffff\" fill-rule=\"evenodd\" fill-opacity=\"1\"/>\n",
       "<defs>\n",
       "  <clipPath id=\"clip951\">\n",
       "    <rect x=\"480\" y=\"0\" width=\"1681\" height=\"1600\"/>\n",
       "  </clipPath>\n",
       "</defs>\n",
       "<path clip-path=\"url(#clip950)\" d=\"M535.075 1486.45 L1974.28 1486.45 L1974.28 47.2441 L535.075 47.2441  Z\" fill=\"#ffffff\" fill-rule=\"evenodd\" fill-opacity=\"1\"/>\n",
       "<defs>\n",
       "  <clipPath id=\"clip952\">\n",
       "    <rect x=\"535\" y=\"47\" width=\"1440\" height=\"1440\"/>\n",
       "  </clipPath>\n",
       "</defs>\n",
       "<polyline clip-path=\"url(#clip952)\" style=\"stroke:#000000; stroke-linecap:round; stroke-linejoin:round; stroke-width:2; stroke-opacity:0.1; fill:none\" points=\"535.075,1486.45 535.075,47.2441 \"/>\n",
       "<polyline clip-path=\"url(#clip952)\" style=\"stroke:#000000; stroke-linecap:round; stroke-linejoin:round; stroke-width:2; stroke-opacity:0.1; fill:none\" points=\"894.876,1486.45 894.876,47.2441 \"/>\n",
       "<polyline clip-path=\"url(#clip952)\" style=\"stroke:#000000; stroke-linecap:round; stroke-linejoin:round; stroke-width:2; stroke-opacity:0.1; fill:none\" points=\"1254.68,1486.45 1254.68,47.2441 \"/>\n",
       "<polyline clip-path=\"url(#clip952)\" style=\"stroke:#000000; stroke-linecap:round; stroke-linejoin:round; stroke-width:2; stroke-opacity:0.1; fill:none\" points=\"1614.48,1486.45 1614.48,47.2441 \"/>\n",
       "<polyline clip-path=\"url(#clip952)\" style=\"stroke:#000000; stroke-linecap:round; stroke-linejoin:round; stroke-width:2; stroke-opacity:0.1; fill:none\" points=\"1974.28,1486.45 1974.28,47.2441 \"/>\n",
       "<polyline clip-path=\"url(#clip950)\" style=\"stroke:#000000; stroke-linecap:round; stroke-linejoin:round; stroke-width:4; stroke-opacity:1; fill:none\" points=\"535.075,1486.45 1974.28,1486.45 \"/>\n",
       "<polyline clip-path=\"url(#clip950)\" style=\"stroke:#000000; stroke-linecap:round; stroke-linejoin:round; stroke-width:4; stroke-opacity:1; fill:none\" points=\"535.075,1486.45 535.075,1467.55 \"/>\n",
       "<polyline clip-path=\"url(#clip950)\" style=\"stroke:#000000; stroke-linecap:round; stroke-linejoin:round; stroke-width:4; stroke-opacity:1; fill:none\" points=\"894.876,1486.45 894.876,1467.55 \"/>\n",
       "<polyline clip-path=\"url(#clip950)\" style=\"stroke:#000000; stroke-linecap:round; stroke-linejoin:round; stroke-width:4; stroke-opacity:1; fill:none\" points=\"1254.68,1486.45 1254.68,1467.55 \"/>\n",
       "<polyline clip-path=\"url(#clip950)\" style=\"stroke:#000000; stroke-linecap:round; stroke-linejoin:round; stroke-width:4; stroke-opacity:1; fill:none\" points=\"1614.48,1486.45 1614.48,1467.55 \"/>\n",
       "<polyline clip-path=\"url(#clip950)\" style=\"stroke:#000000; stroke-linecap:round; stroke-linejoin:round; stroke-width:4; stroke-opacity:1; fill:none\" points=\"1974.28,1486.45 1974.28,1467.55 \"/>\n",
       "<path clip-path=\"url(#clip950)\" d=\"M512.911 1517.37 Q509.3 1517.37 507.471 1520.93 Q505.666 1524.47 505.666 1531.6 Q505.666 1538.71 507.471 1542.27 Q509.3 1545.82 512.911 1545.82 Q516.545 1545.82 518.351 1542.27 Q520.179 1538.71 520.179 1531.6 Q520.179 1524.47 518.351 1520.93 Q516.545 1517.37 512.911 1517.37 M512.911 1513.66 Q518.721 1513.66 521.777 1518.27 Q524.855 1522.85 524.855 1531.6 Q524.855 1540.33 521.777 1544.94 Q518.721 1549.52 512.911 1549.52 Q507.101 1549.52 504.022 1544.94 Q500.967 1540.33 500.967 1531.6 Q500.967 1522.85 504.022 1518.27 Q507.101 1513.66 512.911 1513.66 Z\" fill=\"#000000\" fill-rule=\"nonzero\" fill-opacity=\"1\" /><path clip-path=\"url(#clip950)\" d=\"M533.073 1542.97 L537.957 1542.97 L537.957 1548.85 L533.073 1548.85 L533.073 1542.97 Z\" fill=\"#000000\" fill-rule=\"nonzero\" fill-opacity=\"1\" /><path clip-path=\"url(#clip950)\" d=\"M546.962 1514.29 L569.184 1514.29 L569.184 1516.28 L556.638 1548.85 L551.753 1548.85 L563.559 1518.22 L546.962 1518.22 L546.962 1514.29 Z\" fill=\"#000000\" fill-rule=\"nonzero\" fill-opacity=\"1\" /><path clip-path=\"url(#clip950)\" d=\"M872.307 1517.37 Q868.696 1517.37 866.867 1520.93 Q865.061 1524.47 865.061 1531.6 Q865.061 1538.71 866.867 1542.27 Q868.696 1545.82 872.307 1545.82 Q875.941 1545.82 877.747 1542.27 Q879.575 1538.71 879.575 1531.6 Q879.575 1524.47 877.747 1520.93 Q875.941 1517.37 872.307 1517.37 M872.307 1513.66 Q878.117 1513.66 881.172 1518.27 Q884.251 1522.85 884.251 1531.6 Q884.251 1540.33 881.172 1544.94 Q878.117 1549.52 872.307 1549.52 Q866.497 1549.52 863.418 1544.94 Q860.362 1540.33 860.362 1531.6 Q860.362 1522.85 863.418 1518.27 Q866.497 1513.66 872.307 1513.66 Z\" fill=\"#000000\" fill-rule=\"nonzero\" fill-opacity=\"1\" /><path clip-path=\"url(#clip950)\" d=\"M892.469 1542.97 L897.353 1542.97 L897.353 1548.85 L892.469 1548.85 L892.469 1542.97 Z\" fill=\"#000000\" fill-rule=\"nonzero\" fill-opacity=\"1\" /><path clip-path=\"url(#clip950)\" d=\"M917.538 1532.44 Q914.205 1532.44 912.283 1534.22 Q910.385 1536 910.385 1539.13 Q910.385 1542.25 912.283 1544.03 Q914.205 1545.82 917.538 1545.82 Q920.871 1545.82 922.793 1544.03 Q924.714 1542.23 924.714 1539.13 Q924.714 1536 922.793 1534.22 Q920.895 1532.44 917.538 1532.44 M912.862 1530.45 Q909.853 1529.7 908.163 1527.64 Q906.496 1525.58 906.496 1522.62 Q906.496 1518.48 909.436 1516.07 Q912.399 1513.66 917.538 1513.66 Q922.7 1513.66 925.64 1516.07 Q928.58 1518.48 928.58 1522.62 Q928.58 1525.58 926.89 1527.64 Q925.223 1529.7 922.237 1530.45 Q925.617 1531.23 927.492 1533.52 Q929.39 1535.82 929.39 1539.13 Q929.39 1544.15 926.311 1546.83 Q923.256 1549.52 917.538 1549.52 Q911.82 1549.52 908.742 1546.83 Q905.686 1544.15 905.686 1539.13 Q905.686 1535.82 907.584 1533.52 Q909.483 1531.23 912.862 1530.45 M911.149 1523.06 Q911.149 1525.75 912.816 1527.25 Q914.506 1528.76 917.538 1528.76 Q920.547 1528.76 922.237 1527.25 Q923.95 1525.75 923.95 1523.06 Q923.95 1520.38 922.237 1518.87 Q920.547 1517.37 917.538 1517.37 Q914.506 1517.37 912.816 1518.87 Q911.149 1520.38 911.149 1523.06 Z\" fill=\"#000000\" fill-rule=\"nonzero\" fill-opacity=\"1\" /><path clip-path=\"url(#clip950)\" d=\"M1232.15 1517.37 Q1228.54 1517.37 1226.71 1520.93 Q1224.91 1524.47 1224.91 1531.6 Q1224.91 1538.71 1226.71 1542.27 Q1228.54 1545.82 1232.15 1545.82 Q1235.79 1545.82 1237.59 1542.27 Q1239.42 1538.71 1239.42 1531.6 Q1239.42 1524.47 1237.59 1520.93 Q1235.79 1517.37 1232.15 1517.37 M1232.15 1513.66 Q1237.96 1513.66 1241.02 1518.27 Q1244.1 1522.85 1244.1 1531.6 Q1244.1 1540.33 1241.02 1544.94 Q1237.96 1549.52 1232.15 1549.52 Q1226.34 1549.52 1223.27 1544.94 Q1220.21 1540.33 1220.21 1531.6 Q1220.21 1522.85 1223.27 1518.27 Q1226.34 1513.66 1232.15 1513.66 Z\" fill=\"#000000\" fill-rule=\"nonzero\" fill-opacity=\"1\" /><path clip-path=\"url(#clip950)\" d=\"M1252.32 1542.97 L1257.2 1542.97 L1257.2 1548.85 L1252.32 1548.85 L1252.32 1542.97 Z\" fill=\"#000000\" fill-rule=\"nonzero\" fill-opacity=\"1\" /><path clip-path=\"url(#clip950)\" d=\"M1267.52 1548.13 L1267.52 1543.87 Q1269.28 1544.7 1271.09 1545.14 Q1272.89 1545.58 1274.63 1545.58 Q1279.26 1545.58 1281.69 1542.48 Q1284.14 1539.36 1284.49 1533.01 Q1283.15 1535.01 1281.09 1536.07 Q1279.03 1537.13 1276.53 1537.13 Q1271.34 1537.13 1268.31 1534.01 Q1265.3 1530.86 1265.3 1525.42 Q1265.3 1520.1 1268.45 1516.88 Q1271.6 1513.66 1276.83 1513.66 Q1282.83 1513.66 1285.97 1518.27 Q1289.14 1522.85 1289.14 1531.6 Q1289.14 1539.77 1285.26 1544.66 Q1281.39 1549.52 1274.84 1549.52 Q1273.08 1549.52 1271.27 1549.17 Q1269.47 1548.82 1267.52 1548.13 M1276.83 1533.48 Q1279.98 1533.48 1281.81 1531.32 Q1283.66 1529.17 1283.66 1525.42 Q1283.66 1521.7 1281.81 1519.54 Q1279.98 1517.37 1276.83 1517.37 Q1273.68 1517.37 1271.83 1519.54 Q1270 1521.7 1270 1525.42 Q1270 1529.17 1271.83 1531.32 Q1273.68 1533.48 1276.83 1533.48 Z\" fill=\"#000000\" fill-rule=\"nonzero\" fill-opacity=\"1\" /><path clip-path=\"url(#clip950)\" d=\"M1581.63 1544.91 L1589.27 1544.91 L1589.27 1518.55 L1580.96 1520.21 L1580.96 1515.95 L1589.22 1514.29 L1593.9 1514.29 L1593.9 1544.91 L1601.54 1544.91 L1601.54 1548.85 L1581.63 1548.85 L1581.63 1544.91 Z\" fill=\"#000000\" fill-rule=\"nonzero\" fill-opacity=\"1\" /><path clip-path=\"url(#clip950)\" d=\"M1610.98 1542.97 L1615.87 1542.97 L1615.87 1548.85 L1610.98 1548.85 L1610.98 1542.97 Z\" fill=\"#000000\" fill-rule=\"nonzero\" fill-opacity=\"1\" /><path clip-path=\"url(#clip950)\" d=\"M1636.05 1517.37 Q1632.44 1517.37 1630.61 1520.93 Q1628.81 1524.47 1628.81 1531.6 Q1628.81 1538.71 1630.61 1542.27 Q1632.44 1545.82 1636.05 1545.82 Q1639.69 1545.82 1641.49 1542.27 Q1643.32 1538.71 1643.32 1531.6 Q1643.32 1524.47 1641.49 1520.93 Q1639.69 1517.37 1636.05 1517.37 M1636.05 1513.66 Q1641.86 1513.66 1644.92 1518.27 Q1648 1522.85 1648 1531.6 Q1648 1540.33 1644.92 1544.94 Q1641.86 1549.52 1636.05 1549.52 Q1630.24 1549.52 1627.16 1544.94 Q1624.11 1540.33 1624.11 1531.6 Q1624.11 1522.85 1627.16 1518.27 Q1630.24 1513.66 1636.05 1513.66 Z\" fill=\"#000000\" fill-rule=\"nonzero\" fill-opacity=\"1\" /><path clip-path=\"url(#clip950)\" d=\"M1942.05 1544.91 L1949.68 1544.91 L1949.68 1518.55 L1941.37 1520.21 L1941.37 1515.95 L1949.64 1514.29 L1954.31 1514.29 L1954.31 1544.91 L1961.95 1544.91 L1961.95 1548.85 L1942.05 1548.85 L1942.05 1544.91 Z\" fill=\"#000000\" fill-rule=\"nonzero\" fill-opacity=\"1\" /><path clip-path=\"url(#clip950)\" d=\"M1971.4 1542.97 L1976.28 1542.97 L1976.28 1548.85 L1971.4 1548.85 L1971.4 1542.97 Z\" fill=\"#000000\" fill-rule=\"nonzero\" fill-opacity=\"1\" /><path clip-path=\"url(#clip950)\" d=\"M1987.28 1544.91 L1994.92 1544.91 L1994.92 1518.55 L1986.61 1520.21 L1986.61 1515.95 L1994.87 1514.29 L1999.55 1514.29 L1999.55 1544.91 L2007.18 1544.91 L2007.18 1548.85 L1987.28 1548.85 L1987.28 1544.91 Z\" fill=\"#000000\" fill-rule=\"nonzero\" fill-opacity=\"1\" /><polyline clip-path=\"url(#clip952)\" style=\"stroke:#000000; stroke-linecap:round; stroke-linejoin:round; stroke-width:2; stroke-opacity:0.1; fill:none\" points=\"535.075,1486.45 1974.28,1486.45 \"/>\n",
       "<polyline clip-path=\"url(#clip952)\" style=\"stroke:#000000; stroke-linecap:round; stroke-linejoin:round; stroke-width:2; stroke-opacity:0.1; fill:none\" points=\"535.075,1126.65 1974.28,1126.65 \"/>\n",
       "<polyline clip-path=\"url(#clip952)\" style=\"stroke:#000000; stroke-linecap:round; stroke-linejoin:round; stroke-width:2; stroke-opacity:0.1; fill:none\" points=\"535.075,766.846 1974.28,766.846 \"/>\n",
       "<polyline clip-path=\"url(#clip952)\" style=\"stroke:#000000; stroke-linecap:round; stroke-linejoin:round; stroke-width:2; stroke-opacity:0.1; fill:none\" points=\"535.075,407.045 1974.28,407.045 \"/>\n",
       "<polyline clip-path=\"url(#clip952)\" style=\"stroke:#000000; stroke-linecap:round; stroke-linejoin:round; stroke-width:2; stroke-opacity:0.1; fill:none\" points=\"535.075,47.2441 1974.28,47.2441 \"/>\n",
       "<polyline clip-path=\"url(#clip950)\" style=\"stroke:#000000; stroke-linecap:round; stroke-linejoin:round; stroke-width:4; stroke-opacity:1; fill:none\" points=\"535.075,1486.45 535.075,47.2441 \"/>\n",
       "<polyline clip-path=\"url(#clip950)\" style=\"stroke:#000000; stroke-linecap:round; stroke-linejoin:round; stroke-width:4; stroke-opacity:1; fill:none\" points=\"535.075,1486.45 547.459,1486.45 \"/>\n",
       "<polyline clip-path=\"url(#clip950)\" style=\"stroke:#000000; stroke-linecap:round; stroke-linejoin:round; stroke-width:4; stroke-opacity:1; fill:none\" points=\"535.075,1126.65 547.459,1126.65 \"/>\n",
       "<polyline clip-path=\"url(#clip950)\" style=\"stroke:#000000; stroke-linecap:round; stroke-linejoin:round; stroke-width:4; stroke-opacity:1; fill:none\" points=\"535.075,766.846 547.459,766.846 \"/>\n",
       "<polyline clip-path=\"url(#clip950)\" style=\"stroke:#000000; stroke-linecap:round; stroke-linejoin:round; stroke-width:4; stroke-opacity:1; fill:none\" points=\"535.075,407.045 547.459,407.045 \"/>\n",
       "<polyline clip-path=\"url(#clip950)\" style=\"stroke:#000000; stroke-linecap:round; stroke-linejoin:round; stroke-width:4; stroke-opacity:1; fill:none\" points=\"535.075,47.2441 547.459,47.2441 \"/>\n",
       "<path clip-path=\"url(#clip950)\" d=\"M441.9 1472.25 Q438.288 1472.25 436.46 1475.81 Q434.654 1479.35 434.654 1486.48 Q434.654 1493.59 436.46 1497.15 Q438.288 1500.7 441.9 1500.7 Q445.534 1500.7 447.339 1497.15 Q449.168 1493.59 449.168 1486.48 Q449.168 1479.35 447.339 1475.81 Q445.534 1472.25 441.9 1472.25 M441.9 1468.54 Q447.71 1468.54 450.765 1473.15 Q453.844 1477.73 453.844 1486.48 Q453.844 1495.21 450.765 1499.82 Q447.71 1504.4 441.9 1504.4 Q436.089 1504.4 433.011 1499.82 Q429.955 1495.21 429.955 1486.48 Q429.955 1477.73 433.011 1473.15 Q436.089 1468.54 441.9 1468.54 Z\" fill=\"#000000\" fill-rule=\"nonzero\" fill-opacity=\"1\" /><path clip-path=\"url(#clip950)\" d=\"M462.061 1497.85 L466.946 1497.85 L466.946 1503.73 L462.061 1503.73 L462.061 1497.85 Z\" fill=\"#000000\" fill-rule=\"nonzero\" fill-opacity=\"1\" /><path clip-path=\"url(#clip950)\" d=\"M487.131 1472.25 Q483.52 1472.25 481.691 1475.81 Q479.885 1479.35 479.885 1486.48 Q479.885 1493.59 481.691 1497.15 Q483.52 1500.7 487.131 1500.7 Q490.765 1500.7 492.571 1497.15 Q494.399 1493.59 494.399 1486.48 Q494.399 1479.35 492.571 1475.81 Q490.765 1472.25 487.131 1472.25 M487.131 1468.54 Q492.941 1468.54 495.996 1473.15 Q499.075 1477.73 499.075 1486.48 Q499.075 1495.21 495.996 1499.82 Q492.941 1504.4 487.131 1504.4 Q481.321 1504.4 478.242 1499.82 Q475.186 1495.21 475.186 1486.48 Q475.186 1477.73 478.242 1473.15 Q481.321 1468.54 487.131 1468.54 Z\" fill=\"#000000\" fill-rule=\"nonzero\" fill-opacity=\"1\" /><path clip-path=\"url(#clip950)\" d=\"M443.126 1112.45 Q439.515 1112.45 437.687 1116.01 Q435.881 1119.55 435.881 1126.68 Q435.881 1133.79 437.687 1137.35 Q439.515 1140.89 443.126 1140.89 Q446.761 1140.89 448.566 1137.35 Q450.395 1133.79 450.395 1126.68 Q450.395 1119.55 448.566 1116.01 Q446.761 1112.45 443.126 1112.45 M443.126 1108.74 Q448.937 1108.74 451.992 1113.35 Q455.071 1117.93 455.071 1126.68 Q455.071 1135.41 451.992 1140.01 Q448.937 1144.6 443.126 1144.6 Q437.316 1144.6 434.238 1140.01 Q431.182 1135.41 431.182 1126.68 Q431.182 1117.93 434.238 1113.35 Q437.316 1108.74 443.126 1108.74 Z\" fill=\"#000000\" fill-rule=\"nonzero\" fill-opacity=\"1\" /><path clip-path=\"url(#clip950)\" d=\"M463.288 1138.05 L468.173 1138.05 L468.173 1143.93 L463.288 1143.93 L463.288 1138.05 Z\" fill=\"#000000\" fill-rule=\"nonzero\" fill-opacity=\"1\" /><path clip-path=\"url(#clip950)\" d=\"M479.168 1139.99 L486.807 1139.99 L486.807 1113.63 L478.497 1115.29 L478.497 1111.03 L486.76 1109.37 L491.436 1109.37 L491.436 1139.99 L499.075 1139.99 L499.075 1143.93 L479.168 1143.93 L479.168 1139.99 Z\" fill=\"#000000\" fill-rule=\"nonzero\" fill-opacity=\"1\" /><path clip-path=\"url(#clip950)\" d=\"M443.497 752.645 Q439.886 752.645 438.057 756.209 Q436.251 759.751 436.251 766.881 Q436.251 773.987 438.057 777.552 Q439.886 781.094 443.497 781.094 Q447.131 781.094 448.937 777.552 Q450.765 773.987 450.765 766.881 Q450.765 759.751 448.937 756.209 Q447.131 752.645 443.497 752.645 M443.497 748.941 Q449.307 748.941 452.362 753.547 Q455.441 758.131 455.441 766.881 Q455.441 775.608 452.362 780.214 Q449.307 784.797 443.497 784.797 Q437.687 784.797 434.608 780.214 Q431.552 775.608 431.552 766.881 Q431.552 758.131 434.608 753.547 Q437.687 748.941 443.497 748.941 Z\" fill=\"#000000\" fill-rule=\"nonzero\" fill-opacity=\"1\" /><path clip-path=\"url(#clip950)\" d=\"M463.659 778.246 L468.543 778.246 L468.543 784.126 L463.659 784.126 L463.659 778.246 Z\" fill=\"#000000\" fill-rule=\"nonzero\" fill-opacity=\"1\" /><path clip-path=\"url(#clip950)\" d=\"M482.756 780.191 L499.075 780.191 L499.075 784.126 L477.131 784.126 L477.131 780.191 Q479.793 777.436 484.376 772.807 Q488.983 768.154 490.163 766.811 Q492.409 764.288 493.288 762.552 Q494.191 760.793 494.191 759.103 Q494.191 756.348 492.247 754.612 Q490.325 752.876 487.223 752.876 Q485.024 752.876 482.571 753.64 Q480.14 754.404 477.362 755.955 L477.362 751.233 Q480.186 750.098 482.64 749.52 Q485.094 748.941 487.131 748.941 Q492.501 748.941 495.696 751.626 Q498.89 754.311 498.89 758.802 Q498.89 760.932 498.08 762.853 Q497.293 764.751 495.186 767.344 Q494.608 768.015 491.506 771.233 Q488.404 774.427 482.756 780.191 Z\" fill=\"#000000\" fill-rule=\"nonzero\" fill-opacity=\"1\" /><path clip-path=\"url(#clip950)\" d=\"M442.548 392.844 Q438.937 392.844 437.108 396.409 Q435.302 399.95 435.302 407.08 Q435.302 414.186 437.108 417.751 Q438.937 421.293 442.548 421.293 Q446.182 421.293 447.987 417.751 Q449.816 414.186 449.816 407.08 Q449.816 399.95 447.987 396.409 Q446.182 392.844 442.548 392.844 M442.548 389.14 Q448.358 389.14 451.413 393.746 Q454.492 398.33 454.492 407.08 Q454.492 415.807 451.413 420.413 Q448.358 424.996 442.548 424.996 Q436.738 424.996 433.659 420.413 Q430.603 415.807 430.603 407.08 Q430.603 398.33 433.659 393.746 Q436.738 389.14 442.548 389.14 Z\" fill=\"#000000\" fill-rule=\"nonzero\" fill-opacity=\"1\" /><path clip-path=\"url(#clip950)\" d=\"M462.71 418.445 L467.594 418.445 L467.594 424.325 L462.71 424.325 L462.71 418.445 Z\" fill=\"#000000\" fill-rule=\"nonzero\" fill-opacity=\"1\" /><path clip-path=\"url(#clip950)\" d=\"M491.946 405.691 Q495.302 406.408 497.177 408.677 Q499.075 410.945 499.075 414.279 Q499.075 419.395 495.557 422.195 Q492.038 424.996 485.557 424.996 Q483.381 424.996 481.066 424.557 Q478.774 424.14 476.321 423.283 L476.321 418.77 Q478.265 419.904 480.58 420.482 Q482.895 421.061 485.418 421.061 Q489.816 421.061 492.108 419.325 Q494.422 417.589 494.422 414.279 Q494.422 411.223 492.27 409.51 Q490.14 407.774 486.321 407.774 L482.293 407.774 L482.293 403.932 L486.506 403.932 Q489.955 403.932 491.784 402.566 Q493.612 401.177 493.612 398.584 Q493.612 395.922 491.714 394.51 Q489.839 393.075 486.321 393.075 Q484.399 393.075 482.2 393.492 Q480.001 393.909 477.362 394.788 L477.362 390.622 Q480.024 389.881 482.339 389.51 Q484.677 389.14 486.737 389.14 Q492.061 389.14 495.163 391.571 Q498.265 393.978 498.265 398.098 Q498.265 400.969 496.621 402.959 Q494.978 404.927 491.946 405.691 Z\" fill=\"#000000\" fill-rule=\"nonzero\" fill-opacity=\"1\" /><path clip-path=\"url(#clip950)\" d=\"M441.413 33.0428 Q437.802 33.0428 435.974 36.6076 Q434.168 40.1492 434.168 47.2788 Q434.168 54.3853 435.974 57.9501 Q437.802 61.4917 441.413 61.4917 Q445.048 61.4917 446.853 57.9501 Q448.682 54.3853 448.682 47.2788 Q448.682 40.1492 446.853 36.6076 Q445.048 33.0428 441.413 33.0428 M441.413 29.3391 Q447.224 29.3391 450.279 33.9456 Q453.358 38.5289 453.358 47.2788 Q453.358 56.0056 450.279 60.6121 Q447.224 65.1954 441.413 65.1954 Q435.603 65.1954 432.525 60.6121 Q429.469 56.0056 429.469 47.2788 Q429.469 38.5289 432.525 33.9456 Q435.603 29.3391 441.413 29.3391 Z\" fill=\"#000000\" fill-rule=\"nonzero\" fill-opacity=\"1\" /><path clip-path=\"url(#clip950)\" d=\"M461.575 58.6445 L466.46 58.6445 L466.46 64.5241 L461.575 64.5241 L461.575 58.6445 Z\" fill=\"#000000\" fill-rule=\"nonzero\" fill-opacity=\"1\" /><path clip-path=\"url(#clip950)\" d=\"M489.492 34.0381 L477.686 52.4871 L489.492 52.4871 L489.492 34.0381 M488.265 29.9641 L494.145 29.9641 L494.145 52.4871 L499.075 52.4871 L499.075 56.376 L494.145 56.376 L494.145 64.5241 L489.492 64.5241 L489.492 56.376 L473.89 56.376 L473.89 51.8621 L488.265 29.9641 Z\" fill=\"#000000\" fill-rule=\"nonzero\" fill-opacity=\"1\" /><circle clip-path=\"url(#clip952)\" cx=\"1391.63\" cy=\"271.317\" r=\"14.4\" fill=\"#009af9\" fill-rule=\"evenodd\" fill-opacity=\"1\" stroke=\"#000000\" stroke-opacity=\"1\" stroke-width=\"3.2\"/>\n",
       "<circle clip-path=\"url(#clip952)\" cx=\"1607.38\" cy=\"1260.53\" r=\"14.4\" fill=\"#009af9\" fill-rule=\"evenodd\" fill-opacity=\"1\" stroke=\"#000000\" stroke-opacity=\"1\" stroke-width=\"3.2\"/>\n",
       "<circle clip-path=\"url(#clip952)\" cx=\"1570.18\" cy=\"923.595\" r=\"14.4\" fill=\"#009af9\" fill-rule=\"evenodd\" fill-opacity=\"1\" stroke=\"#000000\" stroke-opacity=\"1\" stroke-width=\"3.2\"/>\n",
       "<circle clip-path=\"url(#clip952)\" cx=\"1367.61\" cy=\"254.053\" r=\"14.4\" fill=\"#e26f46\" fill-rule=\"evenodd\" fill-opacity=\"1\" stroke=\"#000000\" stroke-opacity=\"1\" stroke-width=\"3.2\"/>\n",
       "<circle clip-path=\"url(#clip952)\" cx=\"1554.53\" cy=\"1270.17\" r=\"14.4\" fill=\"#e26f46\" fill-rule=\"evenodd\" fill-opacity=\"1\" stroke=\"#000000\" stroke-opacity=\"1\" stroke-width=\"3.2\"/>\n",
       "<circle clip-path=\"url(#clip952)\" cx=\"1558.53\" cy=\"917.816\" r=\"14.4\" fill=\"#e26f46\" fill-rule=\"evenodd\" fill-opacity=\"1\" stroke=\"#000000\" stroke-opacity=\"1\" stroke-width=\"3.2\"/>\n",
       "<polyline clip-path=\"url(#clip952)\" style=\"stroke:#3da44d; stroke-linecap:round; stroke-linejoin:round; stroke-width:4; stroke-opacity:1; fill:none\" points=\"1614.48,1486.45 1607.23,1258.25 1585.53,1030.97 1549.46,805.52 1499.16,582.815 1434.83,363.749 1356.75,149.203 1265.21,-59.9583 1160.59,-262.893 1043.31,-458.783 913.839,-646.84 772.704,-826.308 620.47,-996.463 457.752,-1156.62 285.203,-1306.13 103.519,-1444.4 -86.5692,-1570.87 -284.296,-1685.03 -488.864,-1786.42 -699.451,-1874.62 -915.209,-1949.3 -1135.27,-2010.14 -1358.74,-2056.9 -1584.73,-2089.39 -1812.33,-2107.49 -2040.62,-2111.11 -2268.67,-2100.25 -2495.58,-2074.94 -2720.43,-2035.29 -2942.31,-1981.47 -3160.33,-1913.67 -3373.6,-1832.19 -3581.29,-1737.35 -3782.54,-1629.52 -3976.54,-1509.15 -4162.52,-1376.71 -4339.73,-1232.75 -4507.44,-1077.83 -4665,-912.593 -4811.76,-737.694 -4947.13,-553.839 -5070.56,-361.768 -5181.57,-162.255 -5279.7,43.896 -5364.55,255.856 -5435.8,472.771 -5493.14,693.768 -5536.35,917.957 -5565.25,1144.44 -5579.73,1372.29 -5579.73,1600.61 -5565.25,1828.46 -5536.35,2054.94 -5493.14,2279.13 -5435.8,2500.12 -5364.55,2717.04 -5279.7,2929 -5181.57,3135.15 -5070.56,3334.66 -4947.13,3526.73 -4811.76,3710.59 -4665,3885.49 -4507.44,4050.73 -4339.73,4205.64 -4162.52,4349.61 -3976.54,4482.04 -3782.54,4602.42 -3581.29,4710.24 -3373.6,4805.09 -3160.33,4886.57 -2942.31,4954.36 -2720.43,5008.19 -2495.58,5047.83 -2268.67,5073.14 -2040.62,5084 -1812.33,5080.38 -1584.73,5062.29 -1358.74,5029.8 -1135.27,4983.04 -915.209,4922.2 -699.451,4847.52 -488.864,4759.31 -284.296,4657.93 -86.5692,4543.77 103.519,4417.3 285.203,4279.03 457.752,4129.52 620.47,3969.36 772.704,3799.2 913.839,3619.74 1043.31,3431.68 1160.59,3235.79 1265.21,3032.85 1356.75,2823.69 1434.83,2609.15 1499.16,2390.08 1549.46,2167.38 1585.53,1941.93 1607.23,1714.65 1614.48,1486.45 \"/>\n",
       "<path clip-path=\"url(#clip950)\" d=\"M1628.45 302.578 L1901.07 302.578 L1901.07 95.2176 L1628.45 95.2176  Z\" fill=\"#ffffff\" fill-rule=\"evenodd\" fill-opacity=\"1\"/>\n",
       "<polyline clip-path=\"url(#clip950)\" style=\"stroke:#000000; stroke-linecap:round; stroke-linejoin:round; stroke-width:4; stroke-opacity:1; fill:none\" points=\"1628.45,302.578 1901.07,302.578 1901.07,95.2176 1628.45,95.2176 1628.45,302.578 \"/>\n",
       "<circle clip-path=\"url(#clip950)\" cx=\"1726.06\" cy=\"147.058\" r=\"20.48\" fill=\"#009af9\" fill-rule=\"evenodd\" fill-opacity=\"1\" stroke=\"#000000\" stroke-opacity=\"1\" stroke-width=\"4.55111\"/>\n",
       "<path clip-path=\"url(#clip950)\" d=\"M1837.51 166.745 Q1835.7 171.375 1833.99 172.787 Q1832.27 174.199 1829.4 174.199 L1826 174.199 L1826 170.634 L1828.5 170.634 Q1830.26 170.634 1831.23 169.8 Q1832.2 168.967 1833.39 165.865 L1834.15 163.921 L1823.66 138.412 L1828.18 138.412 L1836.28 158.689 L1844.38 138.412 L1848.89 138.412 L1837.51 166.745 Z\" fill=\"#000000\" fill-rule=\"nonzero\" fill-opacity=\"1\" /><path clip-path=\"url(#clip950)\" d=\"M1856.19 160.402 L1863.82 160.402 L1863.82 134.037 L1855.51 135.703 L1855.51 131.444 L1863.78 129.778 L1868.45 129.778 L1868.45 160.402 L1876.09 160.402 L1876.09 164.338 L1856.19 164.338 L1856.19 160.402 Z\" fill=\"#000000\" fill-rule=\"nonzero\" fill-opacity=\"1\" /><circle clip-path=\"url(#clip950)\" cx=\"1726.06\" cy=\"198.898\" r=\"20.48\" fill=\"#e26f46\" fill-rule=\"evenodd\" fill-opacity=\"1\" stroke=\"#000000\" stroke-opacity=\"1\" stroke-width=\"4.55111\"/>\n",
       "<path clip-path=\"url(#clip950)\" d=\"M1837.51 218.585 Q1835.7 223.215 1833.99 224.627 Q1832.27 226.039 1829.4 226.039 L1826 226.039 L1826 222.474 L1828.5 222.474 Q1830.26 222.474 1831.23 221.64 Q1832.2 220.807 1833.39 217.705 L1834.15 215.761 L1823.66 190.252 L1828.18 190.252 L1836.28 210.529 L1844.38 190.252 L1848.89 190.252 L1837.51 218.585 Z\" fill=\"#000000\" fill-rule=\"nonzero\" fill-opacity=\"1\" /><path clip-path=\"url(#clip950)\" d=\"M1859.4 212.242 L1875.72 212.242 L1875.72 216.178 L1853.78 216.178 L1853.78 212.242 Q1856.44 209.488 1861.02 204.858 Q1865.63 200.205 1866.81 198.863 Q1869.06 196.34 1869.94 194.604 Q1870.84 192.844 1870.84 191.155 Q1870.84 188.4 1868.89 186.664 Q1866.97 184.928 1863.87 184.928 Q1861.67 184.928 1859.22 185.692 Q1856.79 186.455 1854.01 188.006 L1854.01 183.284 Q1856.83 182.15 1859.29 181.571 Q1861.74 180.993 1863.78 180.993 Q1869.15 180.993 1872.34 183.678 Q1875.54 186.363 1875.54 190.854 Q1875.54 192.983 1874.73 194.905 Q1873.94 196.803 1871.83 199.395 Q1871.26 200.067 1868.15 203.284 Q1865.05 206.479 1859.4 212.242 Z\" fill=\"#000000\" fill-rule=\"nonzero\" fill-opacity=\"1\" /><polyline clip-path=\"url(#clip950)\" style=\"stroke:#3da44d; stroke-linecap:round; stroke-linejoin:round; stroke-width:4; stroke-opacity:1; fill:none\" points=\"1652.85,250.738 1799.26,250.738 \"/>\n",
       "<path clip-path=\"url(#clip950)\" d=\"M1837.51 270.425 Q1835.7 275.055 1833.99 276.467 Q1832.27 277.879 1829.4 277.879 L1826 277.879 L1826 274.314 L1828.5 274.314 Q1830.26 274.314 1831.23 273.48 Q1832.2 272.647 1833.39 269.545 L1834.15 267.601 L1823.66 242.092 L1828.18 242.092 L1836.28 262.369 L1844.38 242.092 L1848.89 242.092 L1837.51 270.425 Z\" fill=\"#000000\" fill-rule=\"nonzero\" fill-opacity=\"1\" /><path clip-path=\"url(#clip950)\" d=\"M1869.54 249.383 Q1872.9 250.101 1874.77 252.369 Q1876.67 254.638 1876.67 257.971 Q1876.67 263.087 1873.15 265.888 Q1869.63 268.689 1863.15 268.689 Q1860.98 268.689 1858.66 268.249 Q1856.37 267.832 1853.92 266.976 L1853.92 262.462 Q1855.86 263.596 1858.18 264.175 Q1860.49 264.754 1863.01 264.754 Q1867.41 264.754 1869.7 263.018 Q1872.02 261.281 1872.02 257.971 Q1872.02 254.916 1869.87 253.203 Q1867.74 251.467 1863.92 251.467 L1859.89 251.467 L1859.89 247.624 L1864.1 247.624 Q1867.55 247.624 1869.38 246.258 Q1871.21 244.87 1871.21 242.277 Q1871.21 239.615 1869.31 238.203 Q1867.44 236.768 1863.92 236.768 Q1862 236.768 1859.8 237.184 Q1857.6 237.601 1854.96 238.481 L1854.96 234.314 Q1857.62 233.573 1859.94 233.203 Q1862.27 232.833 1864.33 232.833 Q1869.66 232.833 1872.76 235.263 Q1875.86 237.67 1875.86 241.791 Q1875.86 244.661 1874.22 246.652 Q1872.57 248.62 1869.54 249.383 Z\" fill=\"#000000\" fill-rule=\"nonzero\" fill-opacity=\"1\" /></svg>\n"
      ]
     },
     "metadata": {},
     "execution_count": 8
    }
   ],
   "cell_type": "code",
   "source": [
    "dmdmodes = dmd(snaps,r)\n",
    "\n",
    "scatter(real(true_evals),imag(true_evals),ratio=1,xlim = (0.7,1.1),ylim=(0,0.4))\n",
    "scatter!(real(dmdmodes.evals),imag(dmdmodes.evals))\n",
    "θ = range(0,2π,length=100);\n",
    "plot!(cos.(θ),sin.(θ))"
   ],
   "metadata": {},
   "execution_count": 8
  },
  {
   "cell_type": "markdown",
   "source": [
    "### Compare the true and DMD-computed eigenvalues\n",
    "Note that these may not be ordered the same, so we have to\n",
    "also determine how to permute the order of them to compare\n",
    "corresponding eigenvalues. We then compute the l2 error"
   ],
   "metadata": {}
  },
  {
   "outputs": [
    {
     "output_type": "execute_result",
     "data": {
      "text/plain": "0.024638494809607097"
     },
     "metadata": {},
     "execution_count": 9
    }
   ],
   "cell_type": "code",
   "source": [
    "vals, idex = findmin(abs2.(true_evals .- transpose(dmdmodes.evals)),dims=2)\n",
    "sqrt(sum(vals))"
   ],
   "metadata": {},
   "execution_count": 9
  },
  {
   "cell_type": "markdown",
   "source": [
    "---\n",
    "\n",
    "*This notebook was generated using [Literate.jl](https://github.com/fredrikekre/Literate.jl).*"
   ],
   "metadata": {}
  }
 ],
 "nbformat_minor": 3,
 "metadata": {
  "language_info": {
   "file_extension": ".jl",
   "mimetype": "application/julia",
   "name": "julia",
   "version": "1.10.4"
  },
  "kernelspec": {
   "name": "julia-1.10",
   "display_name": "Julia 1.10.4",
   "language": "julia"
  }
 },
 "nbformat": 4
}
